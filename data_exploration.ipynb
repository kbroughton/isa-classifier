{
 "cells": [
  {
   "cell_type": "markdown",
   "metadata": {},
   "source": [
    "# Data Exploration"
   ]
  },
  {
   "cell_type": "markdown",
   "metadata": {},
   "source": [
    "Here we will not treat the binaries like a black box bot rather use our knowledge of machine language in general\n",
    "and particular ISA's to analyze the data set.\n",
    "We will gather some general features common to most or all ISA's and deep dive into a few.\n",
    "\n",
    "Online disassembler with > 60 archs\n",
    "https://onlinedisassembler.com/static/home/index.html\n",
    "\n",
    "https://en.wikibooks.org/wiki/X86_Disassembly/Disassemblers_and_Decompilers#Linux_Disassemblers"
   ]
  },
  {
   "cell_type": "markdown",
   "metadata": {},
   "source": [
    "## Questions\n",
    "###1\n",
    "Is it possible to have a binary snippet from the game represent a valid machine instruction in two distinct ISA's\n",
    "\n",
    "Experiment: Using https://onlinedisassembler.com/odaweb/Ufx0uq75/0 Select arch = alphav5 or alphav6 (correct target)\n",
    "00 00 00 00 00 01 7a 52 00 04 78 1a 01 1b 0d 1e 00 18 00 00 00 18 00 00 00 00 00 00 00 8c 00 00 00 00 43 0e 10 41 9a 02 5e da 0e 00 00 03 00 e3 43 00 00 3d 24 00 00 61 b0 00 00 42 20 04 00 42\n",
    "Output has no \"unknown\" translations\n",
    "Endianness does not affect output\n",
    "Select arm\n",
    "Output has no \"unknown\" translations\n",
    "i386-x86_64:\n",
    "  27 lines\n",
    "  unusual:\n",
    "    0e: (bad)\n",
    "    1b0d1e001800: apparently 6 word instruction?\n",
    "mips:\n",
    "  unusual: several items are just copied from hex string to assembly.  Perhaps the IDK for this arch?\n",
    "  notes: all lines are 8 hex chars\n",
    "  029a4110: 0x29a4110\n",
    "mips16:\n",
    "  unusual: three jal<x> instructions of 8 hex chars, the rest are 4 hex chars.\n",
    "sh4:\n",
    "  notes: all lines are 4 hex chars\n",
    "  unusual:\n",
    "    0018: sett; single sintruction no args?\n",
    "  "
   ]
  },
  {
   "cell_type": "markdown",
   "metadata": {},
   "source": [
    "# sparc"
   ]
  },
  {
   "cell_type": "markdown",
   "metadata": {},
   "source": [
    "Overview http://moss.csc.ncsu.edu/~mueller/codeopt/codeopt00/notes/sparc.html\n",
    "## RISC\n",
    "### 3 types of instruction\n",
    "#### ALU + shift\n",
    "opcode reg1,reg2,reg3    !reg1 op reg2    -> reg3\n",
    "opcode reg1,const13,reg3 !reg1 op const13 -> reg3\n",
    "#### Load, Store\n",
    "opcode [reg1+reg2],reg3\n",
    "opcode [reg1+const13],reg3\n",
    "#### Branch\n",
    "opcode address\n",
    "\n",
    "\n",
    "32 registers, 32 fp registers, 32 coprocessor registers, 10 special registers, 4 unary ops, \n",
    "\n",
    "All load and store begin with 11\n",
    "\n"
   ]
  },
  {
   "cell_type": "markdown",
   "metadata": {},
   "source": [
    "Examples\n",
    "http://www.cs.unm.edu/~maccabe/classes/341/labman/node9.html\n",
    "Example: Hand assemble the instruction:\n",
    "ldd     [%r4+%r7], %r11\n",
    "Because this instruction uses two registers in the address specification, it is encoded using the first format shown in Figure 9.1. As such, we must determine the values for the rd, op tex2html_wrap_inline5419 , rs tex2html_wrap_inline5421 , and rs tex2html_wrap_inline5423 fields. The following table summarizes these encodings:\n",
    "\n",
    "tabular2256\n",
    "\n",
    "These encodings lead to the following machine instruction:\n",
    "\n",
    "picture2263\n",
    "\n",
    "That is, 1101 0110 0001 1001 0000 0000 0000 0111 in binary, or 0xD6190007.\n",
    "\n",
    "If the assembly language instruction only uses a single register in the address specification (e.g., register indirect addressing), the register is encoded in one of the source register fields (i.e., sr tex2html_wrap_inline5421 or sr tex2html_wrap_inline5423 ) while %r0 is encoded in the other. It doesn't matter which field holds the register specified in the assembly language instruction and which field holds the encoding for %r0. However, isem-as encodes %r0 in sr tex2html_wrap_inline5423 .\n",
    "\n",
    "Example: Hand assemble the instruction:\n",
    "ldub     [%r23], %r19\n",
    "Because this instruction uses registers in the address specification, it is encoded using the first format shown in Figure 9.1. As such, we must determine the values for the rd, op tex2html_wrap_inline5419 , rs tex2html_wrap_inline5421 , and rs tex2html_wrap_inline5423 fields. The following table summarizes these encodings:\n",
    "\n",
    "tabular2311\n",
    "\n",
    "These encodings lead to the following machine instruction:\n",
    "\n",
    "picture2318\n",
    "\n",
    "That is, 1110 0110 0000 1101 1100 0000 0000 0000 in binary, or 0xE60DC000."
   ]
  },
  {
   "cell_type": "markdown",
   "metadata": {},
   "source": [
    "# ARM\n",
    "\n",
    "32 bits\n",
    "instruction type, condition, operands\n",
    "\n",
    "some of the status bits are stored in bits 26..31 of R15\n",
    "\n",
    "### Groupings 5.5\n",
    "\n",
    "Group one\n",
    "\n",
    "MOV, ADD etc. 1 s-cycle. If <rhs> contains a shift count in a register (i.e. not an immediate shift), add 1 s-cycle. If <dest> is R15, add 1 s + 1 n-cycle.\n",
    "\n",
    "Group one A\n",
    "\n",
    "MUL, MLA. 1 s + 16 i- cycles worst-case.\n",
    "\n",
    "Group two\n",
    "\n",
    "LDR. 1 s + 1 n + 1 i-cycle. If <dest> is R15, add 1 s + 1n-cycle.\n",
    "\n",
    "STR. 2 n-cycles.\n",
    "\n",
    "Group three\n",
    "\n",
    "LDM. (regs-1) s + 1 n + 1 i-cycle. Regs is the number of registers loaded. Add 1 s + 1 n-cycles if R15 is loaded.\n",
    "\n",
    "STM. 2 n + (regs-1) s-cycles.\n",
    "\n",
    "Group four\n",
    "\n",
    "B, BL. 2 s + 1 n-cycles.\n",
    "\n",
    "Group five\n",
    "\n",
    "SWI. 2 s + 1 n-cycles.\n",
    "\n",
    "Hex to ARM and back converter\n",
    "http://armconverter.com/\n",
    "\n",
    "All arithmetic functions have opcode 0x -> 000000\n"
   ]
  },
  {
   "cell_type": "markdown",
   "metadata": {},
   "source": [
    "https://stackoverflow.com/questions/11785973/converting-very-simple-arm-instructions-to-binary-hex\n",
    "\n",
    "mov r0, r0 should go like this:\n",
    "\n",
    "1110 00 0 0 1101 0000 0000 00000000"
   ]
  },
  {
   "cell_type": "markdown",
   "metadata": {},
   "source": [
    "# MIPS"
   ]
  },
  {
   "cell_type": "markdown",
   "metadata": {},
   "source": [
    "### Groupings 5\n",
    "\n",
    "https://en.wikibooks.org/wiki/MIPS_Assembly/Instruction_Formats\n",
    "\n",
    "Converter assembly <-> hex/binary https://www.eg.bucknell.edu/~csci320/mips_web/\n"
   ]
  },
  {
   "cell_type": "code",
   "execution_count": 0,
   "metadata": {
    "collapsed": true
   },
   "outputs": [],
   "source": [
    "opcode_mapping = \"\"\"\n",
    "R:\n",
    " description: all the data values used by the instruction are located in registers.\n",
    " opcode_pattern: \n",
    "  opcode: \n",
    "    bits: 6\n",
    "  rs: \n",
    "    bits: 5\n",
    "    indices: [21,25]\n",
    "  rt: \n",
    "    bits: 5\n",
    "    indices: [16, 20]\n",
    "  rd: \n",
    "    bits: 5\n",
    "  shift: \n",
    "    bits: 6\n",
    "  funct: \n",
    "    bits: 6\n",
    "\n",
    "I:\n",
    "  description: the instruction must operate on an immediate value and a register value. \n",
    "  opcode_pattern:\n",
    "    opcode: \n",
    "      bits: 6\n",
    "    rs: \n",
    "      bits: 5\n",
    "    rt: \n",
    "      bits: 5\n",
    "    IMM: \n",
    "      bits: 16\n",
    "J:\n",
    "  description: jump instructions\n",
    "  opcode_pattern:\n",
    "    opcode: \n",
    "      bits: 6\n",
    "    pseudo_addr: \n",
    "      bits: 26\n",
    "      description: \n",
    "       - he two least significant bits are removed, and the 4 most significant bits are removed, \n",
    "       - and assumed to be the same as the current instruction's address.\n",
    "      \n",
    "FR:\n",
    "  description: instruction uses data only from floating-point registers\n",
    " opcode_pattern: \n",
    "  opcode: \n",
    "    bits: 6\n",
    "  fmt: \n",
    "    bits: 5\n",
    "  ft: \n",
    "    bits: 5\n",
    "  fs: \n",
    "    bits: 5\n",
    "  fd: \n",
    "    bits: 6\n",
    "  funct: \n",
    "    bits: 6  \n",
    "  \n",
    "FI:\n",
    "  description: the instruction must operate on an immediate value and a register value.\n",
    "  opcode_pattern:\n",
    "    opcode: \n",
    "      bits: 6\n",
    "    fmt: \n",
    "      bits: 5\n",
    "    ft: \n",
    "      bits: 5\n",
    "    IMM: \n",
    "      bits: 16    \n",
    "\"\"\"\n",
    "\n"
   ]
  },
  {
   "cell_type": "markdown",
   "metadata": {},
   "source": [
    "# x86_64\n",
    "\n",
    "assembly <-> hex https://defuse.ca/online-x86-assembler.htm\n",
    "\n",
    "Special\n",
    "Stack Pointer, Base Pointer"
   ]
  },
  {
   "cell_type": "code",
   "execution_count": 0,
   "metadata": {
    "collapsed": true
   },
   "outputs": [],
   "source": [
    "base64_encoded = u'GAAAABgAAAAAAAAAqAAAAABIDhBHmgJa2g4AAAAAQaAAAD0kAABetxEE/0cCAOJDAAAQIgAAQbAAAF0kAABCoA=='"
   ]
  },
  {
   "cell_type": "markdown",
   "metadata": {},
   "source": [
    "# SH4\n",
    "http://www.shared-ptr.com/sh_insns.html"
   ]
  },
  {
   "cell_type": "code",
   "execution_count": 0,
   "metadata": {},
   "outputs": [],
   "source": [
    "import base64\n",
    "import binascii"
   ]
  },
  {
   "cell_type": "code",
   "execution_count": 0,
   "metadata": {},
   "outputs": [],
   "source": [
    "hx = base64.b64decode(base64_encoded)\n",
    "repr(hx)"
   ]
  },
  {
   "cell_type": "code",
   "execution_count": 0,
   "metadata": {},
   "outputs": [],
   "source": [
    "len(hx)"
   ]
  },
  {
   "cell_type": "code",
   "execution_count": 0,
   "metadata": {},
   "outputs": [],
   "source": [
    "hx[0]"
   ]
  },
  {
   "cell_type": "code",
   "execution_count": 0,
   "metadata": {},
   "outputs": [],
   "source": [
    "binascii.hexlify('00=$')"
   ]
  },
  {
   "cell_type": "code",
   "execution_count": 0,
   "metadata": {},
   "outputs": [],
   "source": [
    "bins = [bin(long(binascii.hexlify(x), 16)) for x in hx]\n",
    "print(bins[0:6])"
   ]
  },
  {
   "cell_type": "code",
   "execution_count": 0,
   "metadata": {},
   "outputs": [],
   "source": [
    "bins = [x + '0'*(2 + 8 - len(x)) for x in bins]\n",
    "print(bins[0:6])"
   ]
  },
  {
   "cell_type": "code",
   "execution_count": 0,
   "metadata": {},
   "outputs": [],
   "source": [
    "len(bins)/4"
   ]
  },
  {
   "cell_type": "code",
   "execution_count": 0,
   "metadata": {},
   "outputs": [],
   "source": [
    "2**32/10**6"
   ]
  },
  {
   "cell_type": "code",
   "execution_count": 0,
   "metadata": {
    "collapsed": true
   },
   "outputs": [],
   "source": [
    "import etl"
   ]
  },
  {
   "cell_type": "code",
   "execution_count": 0,
   "metadata": {
    "collapsed": true
   },
   "outputs": [],
   "source": [
    "data_set = etl.load('ml_challenge/4096_512_512_6f9ef7d8.json')"
   ]
  },
  {
   "cell_type": "code",
   "execution_count": 0,
   "metadata": {
    "collapsed": true
   },
   "outputs": [],
   "source": [
    "orig_X_train, orig_Y_train, orig_train_targets = data_set['train']['binary_data'], data_set['train']['answers'], data_set['train']['targets']\n",
    "orig_X_dev, orig_Y_dev, orig_dev_targets = data_set['dev']['binary_data'], data_set['dev']['answers'], data_set['dev']['targets']\n",
    "orig_X_test, orig_Y_test, orig_test_targets = data_set['test']['binary_data'], data_set['test']['answers'], data_set['test']['targets']"
   ]
  },
  {
   "cell_type": "code",
   "execution_count": 0,
   "metadata": {},
   "outputs": [],
   "source": [
    "print(orig_X_train[0:6])\n",
    "print(orig_Y_train[0:6])\n",
    "print(orig_train_targets[0:6])"
   ]
  },
  {
   "cell_type": "code",
   "execution_count": 0,
   "metadata": {
    "collapsed": true
   },
   "outputs": [],
   "source": [
    "hex_X_train, train_misfits = etl.hex_data(orig_X_train)\n",
    "hex_X_dev, dev_misfits = etl.hex_data(orig_X_dev)\n",
    "hex_X_test, test_misfits = etl.hex_data(orig_X_test)"
   ]
  },
  {
   "cell_type": "code",
   "execution_count": 0,
   "metadata": {},
   "outputs": [],
   "source": [
    "print(hex_X_train[0:6])"
   ]
  },
  {
   "cell_type": "code",
   "execution_count": 0,
   "metadata": {
    "collapsed": true
   },
   "outputs": [],
   "source": [
    "import pandas as pd"
   ]
  },
  {
   "cell_type": "code",
   "execution_count": 0,
   "metadata": {},
   "outputs": [],
   "source": [
    "dft = pd.DataFrame(zip(hex_X_train, orig_Y_train))"
   ]
  },
  {
   "cell_type": "code",
   "execution_count": 0,
   "metadata": {},
   "outputs": [],
   "source": [
    "dft.describe()"
   ]
  },
  {
   "cell_type": "markdown",
   "metadata": {},
   "source": [
    "Observe that there are 4096 unique snippets, so no collisions between archs here.  \n",
    "There are 16 ** (len(snippet) * (2 digits per 'word')) = 16 ** 128 possibilities"
   ]
  },
  {
   "cell_type": "code",
   "execution_count": 0,
   "metadata": {},
   "outputs": [],
   "source": []
  },
  {
   "cell_type": "code",
   "execution_count": 0,
   "metadata": {
    "collapsed": true
   },
   "outputs": [],
   "source": [
    "dft.columns = ['hex_list', 'arch']"
   ]
  },
  {
   "cell_type": "code",
   "execution_count": 0,
   "metadata": {},
   "outputs": [],
   "source": [
    "dft.head()"
   ]
  },
  {
   "cell_type": "markdown",
   "metadata": {},
   "source": [
    "For each ISA find the frequencies of 2-char 'words' like '4d', 'cf'"
   ]
  },
  {
   "cell_type": "code",
   "execution_count": 0,
   "metadata": {
    "collapsed": true
   },
   "outputs": [],
   "source": [
    "import collections\n",
    "from __future__ import division"
   ]
  },
  {
   "cell_type": "code",
   "execution_count": 0,
   "metadata": {},
   "outputs": [],
   "source": [
    "def build_counts(hex_lists, archs):\n",
    "    \"\"\"\n",
    "    hex_lists: list of 64 item list of 32-bit hex items\n",
    "    archs: list of arch strings\n",
    "    @returns: 12 counters one for each arch\n",
    "    \"\"\"\n",
    "    counters = dict(zip(etl.SUPPORTED_ARCHITECTURES, [collections.Counter() for \n",
    "                                                      i in range(len(etl.SUPPORTED_ARCHITECTURES))]))\n",
    "    for h, arch in zip(hex_lists, archs):\n",
    "        counters[arch].update(h)\n",
    "    return counters\n",
    "        "
   ]
  },
  {
   "cell_type": "code",
   "execution_count": 0,
   "metadata": {},
   "outputs": [],
   "source": [
    "counters = build_counts(hex_X_train, orig_Y_train)\n",
    "print(counters.keys())"
   ]
  },
  {
   "cell_type": "code",
   "execution_count": 0,
   "metadata": {},
   "outputs": [],
   "source": [
    "def freq_stats(counters):\n",
    "\n",
    "    stats = {}\n",
    "    for arch in etl.SUPPORTED_ARCHITECTURES:\n",
    "        total_instructions = 0\n",
    "        unique_instructions = 0\n",
    "        repeated_instructions = 0\n",
    "        repeats = []\n",
    "        for instruction, count in counters[arch].most_common():\n",
    "            total_instructions += count\n",
    "            unique_instructions += 1\n",
    "            if count > 1:\n",
    "                repeats.append(instruction)\n",
    "                repeated_instructions += 1\n",
    "        stats[arch] = {'vocab_size': unique_instructions,\n",
    "                       'repeated_instructions': repeated_instructions,\n",
    "                       #'repeats': set(repeats),\n",
    "                       'unique_instructions': unique_instructions,\n",
    "                       'total_instructions': total_instructions,\n",
    "                       'percent_repeated': (repeated_instructions/unique_instructions)*100.0,\n",
    "                       'most_common_20': set([x[0] for x in counters[arch].most_common(20)]),\n",
    "                       'least_common_20': set([x[0] for x in counters[arch].most_common()[:-20-1:-1]])}\n",
    "    return stats\n",
    "                \n",
    "        "
   ]
  },
  {
   "cell_type": "code",
   "execution_count": 0,
   "metadata": {},
   "outputs": [],
   "source": [
    "fstats = freq_stats(counters)\n",
    "print(fstats)"
   ]
  },
  {
   "cell_type": "markdown",
   "metadata": {},
   "source": [
    "Conclusion: At the granularity of 32-bit instructions only ~ 1% of instructions are in the repetition set of an arch.\n",
    "The total instructions seen by each counter is total (samples/num_archictectures) * (instructions/sample)"
   ]
  },
  {
   "cell_type": "code",
   "execution_count": 0,
   "metadata": {},
   "outputs": [],
   "source": [
    "4096/12 * 64"
   ]
  },
  {
   "cell_type": "code",
   "execution_count": 0,
   "metadata": {},
   "outputs": [],
   "source": [
    "def stop_words(freq_stats):\n",
    "    union = set([])\n",
    "    wildspace = {}\n",
    "    # could choose any arch to initialize intersection\n",
    "    intersection = set(freq_stats['sparc']['most_common_20'])\n",
    "    for arch in freq_stats:\n",
    "        intersection.intersection(freq_stats[arch]['most_common_20'])\n",
    "        others_union = set([])\n",
    "        union = union.union(freq_stats[arch]['most_common_20'])\n",
    "        others = set(freq_stats.keys()) - set([arch])\n",
    "        for other in others:\n",
    "            others_union = others_union.union(freq_stats[other]['most_common_20'])\n",
    "        wildspace_item = freq_stats[arch]['most_common_20'].difference(others_union)\n",
    "        wildspace[arch] = wildspace_item\n",
    "    return intersection, wildspace"
   ]
  },
  {
   "cell_type": "code",
   "execution_count": 0,
   "metadata": {},
   "outputs": [],
   "source": [
    "stop_words, wildspace = stop_words(fstats)"
   ]
  },
  {
   "cell_type": "code",
   "execution_count": 0,
   "metadata": {},
   "outputs": [],
   "source": [
    "print(len(stop_words), stop_words)"
   ]
  },
  {
   "cell_type": "code",
   "execution_count": 0,
   "metadata": {},
   "outputs": [],
   "source": [
    "print(wildspace)"
   ]
  },
  {
   "cell_type": "code",
   "execution_count": 0,
   "metadata": {},
   "outputs": [],
   "source": [
    "{ orig_Y_train[i]: \" \".join(hex_X_train[i]) for i in range(5)}"
   ]
  },
  {
   "cell_type": "code",
   "execution_count": 0,
   "metadata": {},
   "outputs": [],
   "source": []
  },
  {
   "cell_type": "code",
   "execution_count": 0,
   "metadata": {
    "collapsed": true
   },
   "outputs": [],
   "source": []
  }
 ],
 "metadata": {
  "kernelspec": {
   "display_name": "Python 2",
   "language": "python",
   "name": "python2"
  },
  "language_info": {
   "codemirror_mode": {
    "name": "ipython",
    "version": 2
   },
   "file_extension": ".py",
   "mimetype": "text/x-python",
   "name": "python",
   "nbconvert_exporter": "python",
   "pygments_lexer": "ipython2",
   "version": "2.7.12"
  }
 },
 "nbformat": 4,
 "nbformat_minor": 2
}