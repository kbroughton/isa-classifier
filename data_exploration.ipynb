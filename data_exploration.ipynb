{
 "cells": [
  {
   "cell_type": "markdown",
   "metadata": {},
   "source": [
    "# Data Exploration"
   ]
  },
  {
   "cell_type": "markdown",
   "metadata": {},
   "source": [
    "Here we will not treat the binaries like a black box bot rather use our knowledge of machine language in general\n",
    "and particular ISA's to analyze the data set.\n",
    "We will gather some general features common to most or all ISA's and deep dive into a few.\n",
    "\n",
    "Online disassembler with > 60 archs\n",
    "https://onlinedisassembler.com/static/home/index.html\n",
    "\n",
    "https://en.wikibooks.org/wiki/X86_Disassembly/Disassemblers_and_Decompilers#Linux_Disassemblers"
   ]
  },
  {
   "cell_type": "markdown",
   "metadata": {},
   "source": [
    "## Questions\n",
    "###1\n",
    "Is it possible to have a binary snippet from the game represent a valid machine instruction in two distinct ISA's\n",
    "\n",
    "Experiment: Using https://onlinedisassembler.com/odaweb/Ufx0uq75/0 Select arch = alphav5 or alphav6 (correct target)\n",
    "00 00 00 00 00 01 7a 52 00 04 78 1a 01 1b 0d 1e 00 18 00 00 00 18 00 00 00 00 00 00 00 8c 00 00 00 00 43 0e 10 41 9a 02 5e da 0e 00 00 03 00 e3 43 00 00 3d 24 00 00 61 b0 00 00 42 20 04 00 42\n",
    "Output has no \"unknown\" translations\n",
    "Endianness does not affect output\n",
    "Select arm\n",
    "Output has no \"unknown\" translations\n",
    "i386-x86_64:\n",
    "  27 lines\n",
    "  unusual:\n",
    "    0e: (bad)\n",
    "    1b0d1e001800: apparently 6 word instruction?\n",
    "mips:\n",
    "  unusual: several items are just copied from hex string to assembly.  Perhaps the IDK for this arch?\n",
    "  notes: all lines are 8 hex chars\n",
    "  029a4110: 0x29a4110\n",
    "mips16:\n",
    "  unusual: three jal<x> instructions of 8 hex chars, the rest are 4 hex chars.\n",
    "sh4:\n",
    "  notes: all lines are 4 hex chars\n",
    "  unusual:\n",
    "    0018: sett; single sintruction no args?\n",
    "  "
   ]
  },
  {
   "cell_type": "markdown",
   "metadata": {},
   "source": [
    "# sparc"
   ]
  },
  {
   "cell_type": "markdown",
   "metadata": {},
   "source": [
    "Overview http://moss.csc.ncsu.edu/~mueller/codeopt/codeopt00/notes/sparc.html\n",
    "## RISC\n",
    "### 3 types of instruction\n",
    "#### ALU + shift\n",
    "opcode reg1,reg2,reg3    !reg1 op reg2    -> reg3\n",
    "opcode reg1,const13,reg3 !reg1 op const13 -> reg3\n",
    "#### Load, Store\n",
    "opcode [reg1+reg2],reg3\n",
    "opcode [reg1+const13],reg3\n",
    "#### Branch\n",
    "opcode address\n",
    "\n",
    "\n",
    "32 registers, 32 fp registers, 32 coprocessor registers, 10 special registers, 4 unary ops, \n",
    "\n",
    "All load and store begin with 11\n",
    "\n"
   ]
  },
  {
   "cell_type": "markdown",
   "metadata": {},
   "source": [
    "Examples\n",
    "http://www.cs.unm.edu/~maccabe/classes/341/labman/node9.html\n",
    "Example: Hand assemble the instruction:\n",
    "ldd     [%r4+%r7], %r11\n",
    "Because this instruction uses two registers in the address specification, it is encoded using the first format shown in Figure 9.1. As such, we must determine the values for the rd, op tex2html_wrap_inline5419 , rs tex2html_wrap_inline5421 , and rs tex2html_wrap_inline5423 fields. The following table summarizes these encodings:\n",
    "\n",
    "tabular2256\n",
    "\n",
    "These encodings lead to the following machine instruction:\n",
    "\n",
    "picture2263\n",
    "\n",
    "That is, 1101 0110 0001 1001 0000 0000 0000 0111 in binary, or 0xD6190007.\n",
    "\n",
    "If the assembly language instruction only uses a single register in the address specification (e.g., register indirect addressing), the register is encoded in one of the source register fields (i.e., sr tex2html_wrap_inline5421 or sr tex2html_wrap_inline5423 ) while %r0 is encoded in the other. It doesn't matter which field holds the register specified in the assembly language instruction and which field holds the encoding for %r0. However, isem-as encodes %r0 in sr tex2html_wrap_inline5423 .\n",
    "\n",
    "Example: Hand assemble the instruction:\n",
    "ldub     [%r23], %r19\n",
    "Because this instruction uses registers in the address specification, it is encoded using the first format shown in Figure 9.1. As such, we must determine the values for the rd, op tex2html_wrap_inline5419 , rs tex2html_wrap_inline5421 , and rs tex2html_wrap_inline5423 fields. The following table summarizes these encodings:\n",
    "\n",
    "tabular2311\n",
    "\n",
    "These encodings lead to the following machine instruction:\n",
    "\n",
    "picture2318\n",
    "\n",
    "That is, 1110 0110 0000 1101 1100 0000 0000 0000 in binary, or 0xE60DC000."
   ]
  },
  {
   "cell_type": "markdown",
   "metadata": {},
   "source": [
    "# ARM\n",
    "\n",
    "32 bits\n",
    "instruction type, condition, operands\n",
    "\n",
    "some of the status bits are stored in bits 26..31 of R15\n",
    "\n",
    "### Groupings 5.5\n",
    "\n",
    "Group one\n",
    "\n",
    "MOV, ADD etc. 1 s-cycle. If <rhs> contains a shift count in a register (i.e. not an immediate shift), add 1 s-cycle. If <dest> is R15, add 1 s + 1 n-cycle.\n",
    "\n",
    "Group one A\n",
    "\n",
    "MUL, MLA. 1 s + 16 i- cycles worst-case.\n",
    "\n",
    "Group two\n",
    "\n",
    "LDR. 1 s + 1 n + 1 i-cycle. If <dest> is R15, add 1 s + 1n-cycle.\n",
    "\n",
    "STR. 2 n-cycles.\n",
    "\n",
    "Group three\n",
    "\n",
    "LDM. (regs-1) s + 1 n + 1 i-cycle. Regs is the number of registers loaded. Add 1 s + 1 n-cycles if R15 is loaded.\n",
    "\n",
    "STM. 2 n + (regs-1) s-cycles.\n",
    "\n",
    "Group four\n",
    "\n",
    "B, BL. 2 s + 1 n-cycles.\n",
    "\n",
    "Group five\n",
    "\n",
    "SWI. 2 s + 1 n-cycles.\n",
    "\n",
    "Hex to ARM and back converter\n",
    "http://armconverter.com/\n",
    "\n",
    "All arithmetic functions have opcode 0x -> 000000\n"
   ]
  },
  {
   "cell_type": "markdown",
   "metadata": {},
   "source": [
    "https://stackoverflow.com/questions/11785973/converting-very-simple-arm-instructions-to-binary-hex\n",
    "\n",
    "mov r0, r0 should go like this:\n",
    "\n",
    "1110 00 0 0 1101 0000 0000 00000000"
   ]
  },
  {
   "cell_type": "markdown",
   "metadata": {},
   "source": [
    "# MIPS"
   ]
  },
  {
   "cell_type": "markdown",
   "metadata": {},
   "source": [
    "### Groupings 5\n",
    "\n",
    "https://en.wikibooks.org/wiki/MIPS_Assembly/Instruction_Formats\n",
    "\n",
    "Converter assembly <-> hex/binary https://www.eg.bucknell.edu/~csci320/mips_web/\n"
   ]
  },
  {
   "cell_type": "code",
   "execution_count": null,
   "metadata": {
    "collapsed": true
   },
   "outputs": [],
   "source": [
    "opcode_mapping = \"\"\"\n",
    "R:\n",
    " description: all the data values used by the instruction are located in registers.\n",
    " opcode_pattern: \n",
    "  opcode: \n",
    "    bits: 6\n",
    "  rs: \n",
    "    bits: 5\n",
    "    indices: [21,25]\n",
    "  rt: \n",
    "    bits: 5\n",
    "    indices: [16, 20]\n",
    "  rd: \n",
    "    bits: 5\n",
    "  shift: \n",
    "    bits: 6\n",
    "  funct: \n",
    "    bits: 6\n",
    "\n",
    "I:\n",
    "  description: the instruction must operate on an immediate value and a register value. \n",
    "  opcode_pattern:\n",
    "    opcode: \n",
    "      bits: 6\n",
    "    rs: \n",
    "      bits: 5\n",
    "    rt: \n",
    "      bits: 5\n",
    "    IMM: \n",
    "      bits: 16\n",
    "J:\n",
    "  description: jump instructions\n",
    "  opcode_pattern:\n",
    "    opcode: \n",
    "      bits: 6\n",
    "    pseudo_addr: \n",
    "      bits: 26\n",
    "      description: \n",
    "       - he two least significant bits are removed, and the 4 most significant bits are removed, \n",
    "       - and assumed to be the same as the current instruction's address.\n",
    "      \n",
    "FR:\n",
    "  description: instruction uses data only from floating-point registers\n",
    " opcode_pattern: \n",
    "  opcode: \n",
    "    bits: 6\n",
    "  fmt: \n",
    "    bits: 5\n",
    "  ft: \n",
    "    bits: 5\n",
    "  fs: \n",
    "    bits: 5\n",
    "  fd: \n",
    "    bits: 6\n",
    "  funct: \n",
    "    bits: 6  \n",
    "  \n",
    "FI:\n",
    "  description: the instruction must operate on an immediate value and a register value.\n",
    "  opcode_pattern:\n",
    "    opcode: \n",
    "      bits: 6\n",
    "    fmt: \n",
    "      bits: 5\n",
    "    ft: \n",
    "      bits: 5\n",
    "    IMM: \n",
    "      bits: 16    \n",
    "\"\"\"\n",
    "\n"
   ]
  },
  {
   "cell_type": "markdown",
   "metadata": {},
   "source": [
    "# x86_64\n",
    "\n",
    "assembly <-> hex https://defuse.ca/online-x86-assembler.htm\n",
    "\n",
    "Special\n",
    "Stack Pointer, Base Pointer"
   ]
  },
  {
   "cell_type": "code",
   "execution_count": 1,
   "metadata": {
    "collapsed": true
   },
   "outputs": [],
   "source": [
    "base64_encoded = u'GAAAABgAAAAAAAAAqAAAAABIDhBHmgJa2g4AAAAAQaAAAD0kAABetxEE/0cCAOJDAAAQIgAAQbAAAF0kAABCoA=='"
   ]
  },
  {
   "cell_type": "markdown",
   "metadata": {},
   "source": [
    "# SH4\n",
    "http://www.shared-ptr.com/sh_insns.html"
   ]
  },
  {
   "cell_type": "code",
   "execution_count": 11,
   "metadata": {},
   "outputs": [],
   "source": [
    "import base64\n",
    "import binascii"
   ]
  },
  {
   "cell_type": "code",
   "execution_count": 6,
   "metadata": {},
   "outputs": [
    {
     "data": {
      "text/plain": [
       "'\\'\\\\x18\\\\x00\\\\x00\\\\x00\\\\x18\\\\x00\\\\x00\\\\x00\\\\x00\\\\x00\\\\x00\\\\x00\\\\xa8\\\\x00\\\\x00\\\\x00\\\\x00H\\\\x0e\\\\x10G\\\\x9a\\\\x02Z\\\\xda\\\\x0e\\\\x00\\\\x00\\\\x00\\\\x00A\\\\xa0\\\\x00\\\\x00=$\\\\x00\\\\x00^\\\\xb7\\\\x11\\\\x04\\\\xffG\\\\x02\\\\x00\\\\xe2C\\\\x00\\\\x00\\\\x10\"\\\\x00\\\\x00A\\\\xb0\\\\x00\\\\x00]$\\\\x00\\\\x00B\\\\xa0\\''"
      ]
     },
     "execution_count": 6,
     "metadata": {},
     "output_type": "execute_result"
    }
   ],
   "source": [
    "hx = base64.b64decode(base64_encoded)\n",
    "repr(hx)"
   ]
  },
  {
   "cell_type": "code",
   "execution_count": 7,
   "metadata": {},
   "outputs": [
    {
     "data": {
      "text/plain": [
       "64"
      ]
     },
     "execution_count": 7,
     "metadata": {},
     "output_type": "execute_result"
    }
   ],
   "source": [
    "len(hx)"
   ]
  },
  {
   "cell_type": "code",
   "execution_count": 8,
   "metadata": {},
   "outputs": [
    {
     "data": {
      "text/plain": [
       "'\\x18'"
      ]
     },
     "execution_count": 8,
     "metadata": {},
     "output_type": "execute_result"
    }
   ],
   "source": [
    "hx[0]"
   ]
  },
  {
   "cell_type": "code",
   "execution_count": 48,
   "metadata": {},
   "outputs": [
    {
     "data": {
      "text/plain": [
       "'30303d24'"
      ]
     },
     "execution_count": 48,
     "metadata": {},
     "output_type": "execute_result"
    }
   ],
   "source": [
    "binascii.hexlify('00=$')"
   ]
  },
  {
   "cell_type": "code",
   "execution_count": 42,
   "metadata": {},
   "outputs": [
    {
     "name": "stdout",
     "output_type": "stream",
     "text": [
      "['0b11000', '0b0', '0b0', '0b0', '0b11000', '0b0']\n"
     ]
    }
   ],
   "source": [
    "bins = [bin(long(binascii.hexlify(x), 16)) for x in hx]\n",
    "print(bins[0:6])"
   ]
  },
  {
   "cell_type": "code",
   "execution_count": 44,
   "metadata": {},
   "outputs": [
    {
     "name": "stdout",
     "output_type": "stream",
     "text": [
      "['0b11000000', '0b00000000', '0b00000000', '0b00000000', '0b11000000', '0b00000000']\n"
     ]
    }
   ],
   "source": [
    "bins = [x + '0'*(2 + 8 - len(x)) for x in bins]\n",
    "print(bins[0:6])"
   ]
  },
  {
   "cell_type": "code",
   "execution_count": 45,
   "metadata": {},
   "outputs": [
    {
     "data": {
      "text/plain": [
       "16"
      ]
     },
     "execution_count": 45,
     "metadata": {},
     "output_type": "execute_result"
    }
   ],
   "source": [
    "len(bins)/4"
   ]
  },
  {
   "cell_type": "code",
   "execution_count": 47,
   "metadata": {},
   "outputs": [
    {
     "data": {
      "text/plain": [
       "4294"
      ]
     },
     "execution_count": 47,
     "metadata": {},
     "output_type": "execute_result"
    }
   ],
   "source": [
    "2**32/10**6"
   ]
  },
  {
   "cell_type": "code",
   "execution_count": 49,
   "metadata": {
    "collapsed": true
   },
   "outputs": [],
   "source": [
    "import etl"
   ]
  },
  {
   "cell_type": "code",
   "execution_count": 50,
   "metadata": {
    "collapsed": true
   },
   "outputs": [],
   "source": [
    "data_set = etl.load('ml_challenge/4096_512_512_6f9ef7d8.json')"
   ]
  },
  {
   "cell_type": "code",
   "execution_count": 55,
   "metadata": {
    "collapsed": true
   },
   "outputs": [],
   "source": [
    "orig_X_train, orig_Y_train, orig_train_targets = data_set['train']['binary_data'], data_set['train']['answers'], data_set['train']['targets']\n",
    "orig_X_dev, orig_Y_dev, orig_dev_targets = data_set['dev']['binary_data'], data_set['dev']['answers'], data_set['dev']['targets']\n",
    "orig_X_test, orig_Y_test, orig_test_targets = data_set['test']['binary_data'], data_set['test']['answers'], data_set['test']['targets']"
   ]
  },
  {
   "cell_type": "code",
   "execution_count": 57,
   "metadata": {},
   "outputs": [
    {
     "name": "stdout",
     "output_type": "stream",
     "text": [
      "[u'GAAAABgAAAAAAAAAqAAAAABIDhBHmgJa2g4AAAAAQaAAAD0kAABetxEE/0cCAOJDAAAQIgAAQbAAAF0kAABCoA==', u'AAAAAAABelIABHgaARsNHgAYAAAAGAAAAAAAAACMAAAAAEMOEEGaAl7aDgAAAwDjQwAAPSQAAGGwAABCIAQAQg==', u'AOUBIRjRGdMSYRnUEB9iYRjRMiEyITIhCtMCITJjFtAyISIhYmMA5jIhIiFxUiIhclIiIQtACQAA4AR/Jk/2aQ==', u'g/gCfui4AAAAAOsTSGPQixSVAAAAAIkVAAAAAIPAAYXAfum4AAAAAOsTSGPQD7aSAAAAAIkVAAAAAIPAAYP4AQ==', u'ZFAQ8GBYENEapyr//1AgEABYENEaWCAQAKcu//KnRP/sWMDwYKdIAAFYMNEaWBDRFg3hpzgA/xQyWEDRGkEg8A==', u'sHynOA/hQTMgAEEzEACSjjAAWBCwfKcaAAFQELB8WBCwfKceAAKnxP/oWBBQ7lgQEAASEaeEAAanGAABp/QABA==']\n",
      "[u'alphaev56', u'alphaev56', u'sh4', u'x86_64', u's390', u's390']\n",
      "[[u'alphaev56', u'arm', u'm68k', u'mips', u'x86_64', u'xtensa'], [u'alphaev56', u'arm', u'avr', u'm68k', u'mipsel', u'powerpc'], [u'avr', u'm68k', u'mips', u'mipsel', u'sh4', u'sparc'], [u'arm', u'm68k', u'mips', u'mipsel', u'sh4', u'x86_64'], [u'arm', u'avr', u'm68k', u's390', u'x86_64', u'xtensa'], [u'alphaev56', u'arm', u'm68k', u's390', u'sh4', u'x86_64']]\n"
     ]
    }
   ],
   "source": [
    "print(orig_X_train[0:6])\n",
    "print(orig_Y_train[0:6])\n",
    "print(orig_train_targets[0:6])"
   ]
  },
  {
   "cell_type": "code",
   "execution_count": 58,
   "metadata": {
    "collapsed": true
   },
   "outputs": [],
   "source": [
    "hex_X_train, train_misfits = etl.hex_data(orig_X_train)\n",
    "hex_X_dev, dev_misfits = etl.hex_data(orig_X_dev)\n",
    "hex_X_test, test_misfits = etl.hex_data(orig_X_test)"
   ]
  },
  {
   "cell_type": "code",
   "execution_count": 59,
   "metadata": {},
   "outputs": [
    {
     "name": "stdout",
     "output_type": "stream",
     "text": [
      "[['18' '00' '00' '00' '18' '00' '00' '00' '00' '00' '00' '00' 'a8' '00'\n",
      "  '00' '00' '00' '48' '0e' '10' '47' '9a' '02' '5a' 'da' '0e' '00' '00'\n",
      "  '00' '00' '41' 'a0' '00' '00' '3d' '24' '00' '00' '5e' 'b7' '11' '04'\n",
      "  'ff' '47' '02' '00' 'e2' '43' '00' '00' '10' '22' '00' '00' '41' 'b0'\n",
      "  '00' '00' '5d' '24' '00' '00' '42' 'a0']\n",
      " ['00' '00' '00' '00' '00' '01' '7a' '52' '00' '04' '78' '1a' '01' '1b'\n",
      "  '0d' '1e' '00' '18' '00' '00' '00' '18' '00' '00' '00' '00' '00' '00'\n",
      "  '00' '8c' '00' '00' '00' '00' '43' '0e' '10' '41' '9a' '02' '5e' 'da'\n",
      "  '0e' '00' '00' '03' '00' 'e3' '43' '00' '00' '3d' '24' '00' '00' '61'\n",
      "  'b0' '00' '00' '42' '20' '04' '00' '42']\n",
      " ['00' 'e5' '01' '21' '18' 'd1' '19' 'd3' '12' '61' '19' 'd4' '10' '1f'\n",
      "  '62' '61' '18' 'd1' '32' '21' '32' '21' '32' '21' '0a' 'd3' '02' '21'\n",
      "  '32' '63' '16' 'd0' '32' '21' '22' '21' '62' '63' '00' 'e6' '32' '21'\n",
      "  '22' '21' '71' '52' '22' '21' '72' '52' '22' '21' '0b' '40' '09' '00'\n",
      "  '00' 'e0' '04' '7f' '26' '4f' 'f6' '69']\n",
      " ['83' 'f8' '02' '7e' 'e8' 'b8' '00' '00' '00' '00' 'eb' '13' '48' '63'\n",
      "  'd0' '8b' '14' '95' '00' '00' '00' '00' '89' '15' '00' '00' '00' '00'\n",
      "  '83' 'c0' '01' '85' 'c0' '7e' 'e9' 'b8' '00' '00' '00' '00' 'eb' '13'\n",
      "  '48' '63' 'd0' '0f' 'b6' '92' '00' '00' '00' '00' '89' '15' '00' '00'\n",
      "  '00' '00' '83' 'c0' '01' '83' 'f8' '01']\n",
      " ['64' '50' '10' 'f0' '60' '58' '10' 'd1' '1a' 'a7' '2a' 'ff' 'ff' '50'\n",
      "  '20' '10' '00' '58' '10' 'd1' '1a' '58' '20' '10' '00' 'a7' '2e' 'ff'\n",
      "  'f2' 'a7' '44' 'ff' 'ec' '58' 'c0' 'f0' '60' 'a7' '48' '00' '01' '58'\n",
      "  '30' 'd1' '1a' '58' '10' 'd1' '16' '0d' 'e1' 'a7' '38' '00' 'ff' '14'\n",
      "  '32' '58' '40' 'd1' '1a' '41' '20' 'f0']\n",
      " ['b0' '7c' 'a7' '38' '0f' 'e1' '41' '33' '20' '00' '41' '33' '10' '00'\n",
      "  '92' '8e' '30' '00' '58' '10' 'b0' '7c' 'a7' '1a' '00' '01' '50' '10'\n",
      "  'b0' '7c' '58' '10' 'b0' '7c' 'a7' '1e' '00' '02' 'a7' 'c4' 'ff' 'e8'\n",
      "  '58' '10' '50' 'ee' '58' '10' '10' '00' '12' '11' 'a7' '84' '00' '06'\n",
      "  'a7' '18' '00' '01' 'a7' 'f4' '00' '04']]\n"
     ]
    }
   ],
   "source": [
    "print(hex_X_train[0:6])"
   ]
  },
  {
   "cell_type": "code",
   "execution_count": 60,
   "metadata": {
    "collapsed": true
   },
   "outputs": [],
   "source": [
    "import pandas as pd"
   ]
  },
  {
   "cell_type": "code",
   "execution_count": 67,
   "metadata": {},
   "outputs": [],
   "source": [
    "dft = pd.DataFrame(zip(hex_X_train, orig_Y_train))"
   ]
  },
  {
   "cell_type": "code",
   "execution_count": 64,
   "metadata": {},
   "outputs": [
    {
     "data": {
      "text/html": [
       "<div>\n",
       "<table border=\"1\" class=\"dataframe\">\n",
       "  <thead>\n",
       "    <tr style=\"text-align: right;\">\n",
       "      <th></th>\n",
       "      <th>0</th>\n",
       "      <th>1</th>\n",
       "    </tr>\n",
       "  </thead>\n",
       "  <tbody>\n",
       "    <tr>\n",
       "      <th>count</th>\n",
       "      <td>4096</td>\n",
       "      <td>4096</td>\n",
       "    </tr>\n",
       "    <tr>\n",
       "      <th>unique</th>\n",
       "      <td>4096</td>\n",
       "      <td>12</td>\n",
       "    </tr>\n",
       "    <tr>\n",
       "      <th>top</th>\n",
       "      <td>[02, 04, a2, 44, 22, 00, e2, 73, 00, 00, fd, 2...</td>\n",
       "      <td>x86_64</td>\n",
       "    </tr>\n",
       "    <tr>\n",
       "      <th>freq</th>\n",
       "      <td>1</td>\n",
       "      <td>362</td>\n",
       "    </tr>\n",
       "  </tbody>\n",
       "</table>\n",
       "</div>"
      ],
      "text/plain": [
       "                                                        0       1\n",
       "count                                                4096    4096\n",
       "unique                                               4096      12\n",
       "top     [02, 04, a2, 44, 22, 00, e2, 73, 00, 00, fd, 2...  x86_64\n",
       "freq                                                    1     362"
      ]
     },
     "execution_count": 64,
     "metadata": {},
     "output_type": "execute_result"
    }
   ],
   "source": [
    "dft.describe()"
   ]
  },
  {
   "cell_type": "markdown",
   "metadata": {},
   "source": [
    "Observe that there are 4096 unique snippets, so no collisions between archs here.  \n",
    "There are 16 ** (len(snippet) * (2 digits per 'word')) = 16 ** 128 possibilities"
   ]
  },
  {
   "cell_type": "code",
   "execution_count": null,
   "metadata": {},
   "outputs": [],
   "source": []
  },
  {
   "cell_type": "code",
   "execution_count": 68,
   "metadata": {
    "collapsed": true
   },
   "outputs": [],
   "source": [
    "dft.columns = ['hex_list', 'arch']"
   ]
  },
  {
   "cell_type": "code",
   "execution_count": 69,
   "metadata": {},
   "outputs": [
    {
     "data": {
      "text/html": [
       "<div>\n",
       "<table border=\"1\" class=\"dataframe\">\n",
       "  <thead>\n",
       "    <tr style=\"text-align: right;\">\n",
       "      <th></th>\n",
       "      <th>hex_list</th>\n",
       "      <th>arch</th>\n",
       "    </tr>\n",
       "  </thead>\n",
       "  <tbody>\n",
       "    <tr>\n",
       "      <th>0</th>\n",
       "      <td>[18, 00, 00, 00, 18, 00, 00, 00, 00, 00, 00, 0...</td>\n",
       "      <td>alphaev56</td>\n",
       "    </tr>\n",
       "    <tr>\n",
       "      <th>1</th>\n",
       "      <td>[00, 00, 00, 00, 00, 01, 7a, 52, 00, 04, 78, 1...</td>\n",
       "      <td>alphaev56</td>\n",
       "    </tr>\n",
       "    <tr>\n",
       "      <th>2</th>\n",
       "      <td>[00, e5, 01, 21, 18, d1, 19, d3, 12, 61, 19, d...</td>\n",
       "      <td>sh4</td>\n",
       "    </tr>\n",
       "    <tr>\n",
       "      <th>3</th>\n",
       "      <td>[83, f8, 02, 7e, e8, b8, 00, 00, 00, 00, eb, 1...</td>\n",
       "      <td>x86_64</td>\n",
       "    </tr>\n",
       "    <tr>\n",
       "      <th>4</th>\n",
       "      <td>[64, 50, 10, f0, 60, 58, 10, d1, 1a, a7, 2a, f...</td>\n",
       "      <td>s390</td>\n",
       "    </tr>\n",
       "  </tbody>\n",
       "</table>\n",
       "</div>"
      ],
      "text/plain": [
       "                                            hex_list       arch\n",
       "0  [18, 00, 00, 00, 18, 00, 00, 00, 00, 00, 00, 0...  alphaev56\n",
       "1  [00, 00, 00, 00, 00, 01, 7a, 52, 00, 04, 78, 1...  alphaev56\n",
       "2  [00, e5, 01, 21, 18, d1, 19, d3, 12, 61, 19, d...        sh4\n",
       "3  [83, f8, 02, 7e, e8, b8, 00, 00, 00, 00, eb, 1...     x86_64\n",
       "4  [64, 50, 10, f0, 60, 58, 10, d1, 1a, a7, 2a, f...       s390"
      ]
     },
     "execution_count": 69,
     "metadata": {},
     "output_type": "execute_result"
    }
   ],
   "source": [
    "dft.head()"
   ]
  },
  {
   "cell_type": "markdown",
   "metadata": {},
   "source": [
    "For each ISA find the frequencies of 2-char 'words' like '4d', 'cf'"
   ]
  },
  {
   "cell_type": "code",
   "execution_count": 89,
   "metadata": {
    "collapsed": true
   },
   "outputs": [],
   "source": [
    "import collections\n",
    "from __future__ import division"
   ]
  },
  {
   "cell_type": "code",
   "execution_count": 125,
   "metadata": {},
   "outputs": [],
   "source": [
    "def build_counts(hex_lists, archs):\n",
    "    \"\"\"\n",
    "    hex_lists: list of 64 item list of 32-bit hex items\n",
    "    archs: list of arch strings\n",
    "    @returns: 12 counters one for each arch\n",
    "    \"\"\"\n",
    "    counters = dict(zip(etl.SUPPORTED_ARCHITECTURES, [collections.Counter() for \n",
    "                                                      i in range(len(etl.SUPPORTED_ARCHITECTURES))]))\n",
    "    for h, arch in zip(hex_lists, archs):\n",
    "        counters[arch].update(h)\n",
    "    return counters\n",
    "        "
   ]
  },
  {
   "cell_type": "code",
   "execution_count": 126,
   "metadata": {},
   "outputs": [
    {
     "name": "stdout",
     "output_type": "stream",
     "text": [
      "['s390', 'sh4', 'x86_64', 'xtensa', 'avr', 'powerpc', 'alphaev56', 'sparc', 'm68k', 'mips', 'mipsel', 'arm']\n"
     ]
    }
   ],
   "source": [
    "counters = build_counts(hex_X_train, orig_Y_train)\n",
    "print(counters.keys())"
   ]
  },
  {
   "cell_type": "code",
   "execution_count": 133,
   "metadata": {},
   "outputs": [],
   "source": [
    "def freq_stats(counters):\n",
    "\n",
    "    stats = {}\n",
    "    for arch in etl.SUPPORTED_ARCHITECTURES:\n",
    "        total_instructions = 0\n",
    "        unique_instructions = 0\n",
    "        repeated_instructions = 0\n",
    "        repeats = []\n",
    "        for instruction, count in counters[arch].most_common():\n",
    "            total_instructions += count\n",
    "            unique_instructions += 1\n",
    "            if count > 1:\n",
    "                repeats.append(instruction)\n",
    "                repeated_instructions += 1\n",
    "        stats[arch] = {'vocab_size': unique_instructions,\n",
    "                       'repeated_instructions': repeated_instructions,\n",
    "                       #'repeats': set(repeats),\n",
    "                       'unique_instructions': unique_instructions,\n",
    "                       'total_instructions': total_instructions,\n",
    "                       'percent_repeated': (repeated_instructions/unique_instructions)*100.0,\n",
    "                       'most_common_20': set([x[0] for x in counters[arch].most_common(20)]),\n",
    "                       'least_common_20': set([x[0] for x in counters[arch].most_common()[:-20-1:-1]])}\n",
    "    return stats\n",
    "                \n",
    "        "
   ]
  },
  {
   "cell_type": "code",
   "execution_count": 134,
   "metadata": {},
   "outputs": [
    {
     "name": "stdout",
     "output_type": "stream",
     "text": [
      "{'s390': {'vocab_size': 243, 'percent_repeated': 90.94650205761316, 'least_common_20': set(['75', '77', '6b', 'ab', 'ad', '37', '9d', 'dc', '99', '61', 'a3', '63', 'e9', 'b1', '2b', '83', 'c3', '3b', '5f', '4b']), 'repeated_instructions': 221, 'unique_instructions': 243, 'total_instructions': 21376, 'most_common_20': set(['f0', '10', '00', '01', '20', '58', '0d', 'ff', '18', '30', '28', '50', '40', '07', '60', 'b0', 'a7', '0e', 'd0', 'd1'])}, 'sh4': {'vocab_size': 255, 'percent_repeated': 98.4313725490196, 'least_common_20': set(['aa', 'ac', 'ab', 'ae', 'ad', '9b', '9e', 'bf', '9f', '99', 'a5', 'a4', 'c6', 'a8', 'c0', 'cd', 'b8', 'b9', '8e', 'ba']), 'repeated_instructions': 251, 'unique_instructions': 255, 'total_instructions': 23104, 'most_common_20': set(['02', '00', '12', '21', '22', '0c', 'ff', '32', '09', '40', '0b', '61', '62', '63', '72', '71', '01', 'd2', 'e3', 'd1'])}, 'x86_64': {'vocab_size': 255, 'percent_repeated': 99.6078431372549, 'least_common_20': set(['6a', '26', '6b', 'ae', 'f5', '33', '9b', '51', '36', 'cd', 'a9', 'a5', 'b1', 'a6', '82', 'a8', 'd4', '87', '3e', '6e']), 'repeated_instructions': 254, 'unique_instructions': 255, 'total_instructions': 23168, 'most_common_20': set(['02', '10', '00', '01', '41', '48', '05', '8b', '0d', '08', '45', 'eb', 'f8', '89', '0f', 'ff', '0e', '83', 'c0', 'c7'])}, 'xtensa': {'vocab_size': 248, 'percent_repeated': 98.38709677419355, 'least_common_20': set(['c3', 'be', 'bf', '6b', 'ae', '6f', '9e', 'db', 'cf', 'd3', 'b5', 'b6', '7e', '2f', '5e', 'd4', '95', '3f', '84', '85']), 'repeated_instructions': 244, 'unique_instructions': 248, 'total_instructions': 22272, 'most_common_20': set(['02', '91', '00', '81', '20', '07', '22', '98', '08', '09', '28', '29', 'a0', '99', '0c', '88', '0a', 'a9', '80', 'c0'])}, 'avr': {'vocab_size': 238, 'percent_repeated': 92.01680672268907, 'least_common_20': set(['f2', '7b', 'cc', 'd2', 'dd', '0e', 'ce', 'a1', '0c', 'd4', '74', 'c1', '1d', 'a6', 'd7', '4d', '4e', 'b8', 'c6', 'd1']), 'repeated_instructions': 219, 'unique_instructions': 238, 'total_instructions': 22656, 'most_common_20': set(['f0', '00', '81', '20', '01', '83', '30', 'e0', '2f', 'b7', '0f', '1f', '91', '90', '93', '92', '95', '80', 'd0', 'ef'])}, 'powerpc': {'vocab_size': 253, 'percent_repeated': 95.25691699604744, 'least_common_20': set(['f1', '13', 'ab', '15', '6e', '7a', 'f5', '9b', '37', '8d', '6f', 'b5', '75', '73', '72', '5d', '17', 'b9', '97', 'e2']), 'repeated_instructions': 241, 'unique_instructions': 253, 'total_instructions': 21056, 'most_common_20': set(['00', '38', '20', '14', '49', '08', '09', '39', '40', '29', '01', '89', '0a', 'ff', '91', '90', '80', '81', '7d', '3d'])}, 'alphaev56': {'vocab_size': 250, 'percent_repeated': 96.39999999999999, 'least_common_20': set(['2d', '92', '6d', '7b', 'af', 'ee', 'd2', 'db', '2b', 'ce', 'dc', '99', '71', 'd9', 'a9', '69', '93', '8e', '95', 'd1']), 'repeated_instructions': 241, 'unique_instructions': 250, 'total_instructions': 21632, 'most_common_20': set(['24', '10', '00', '01', '20', '22', '04', '23', '47', '02', '42', '43', '40', '41', 'a0', 'b0', 'ff', '0e', '18', '21'])}, 'sparc': {'vocab_size': 239, 'percent_repeated': 83.68200836820083, 'least_common_20': set(['ac', 'ab', 'ae', '6e', '6f', '45', '42', '43', '77', 'b7', 'a5', '65', '71', '9b', '4d', 'e6', '4b', 'c1', '79', '7b']), 'repeated_instructions': 200, 'unique_instructions': 239, 'total_instructions': 21120, 'most_common_20': set(['10', '00', '01', '20', '07', '03', '08', '05', 'bf', '40', 'e0', '60', 'a0', 'ff', '82', 'c2', '80', 'c6', '84', 'c4'])}, 'm68k': {'vocab_size': 254, 'percent_repeated': 95.66929133858267, 'least_common_20': set(['f1', 'bf', '7d', 'f5', 'bb', 'af', '19', 'c7', '9e', 'cf', '35', '77', '68', '1b', '25', '2b', '6b', '4d', '17', '87']), 'repeated_instructions': 243, 'unique_instructions': 254, 'total_instructions': 20672, 'most_common_20': set(['02', '10', '00', 'c0', '20', '01', '22', '23', '08', '0c', '42', '39', '60', '2e', 'fc', '81', 'ff', '80', '4e', '4a'])}, 'mips': {'vocab_size': 251, 'percent_repeated': 95.2191235059761, 'least_common_20': set(['f1', '39', '7d', '7c', '33', '5a', 'db', 'cf', 'ce', '52', '77', '4f', 'c8', '5e', '3b', '3a', 'e6', 'e1', '79', '96']), 'repeated_instructions': 239, 'unique_instructions': 251, 'total_instructions': 21440, 'most_common_20': set(['24', '03', '00', '30', '21', '04', '10', '8c', '08', '02', '8f', 'ac', '40', '43', '0c', '1c', '63', 'ff', '3c', '42'])}, 'mipsel': {'vocab_size': 245, 'percent_repeated': 95.10204081632652, 'least_common_20': set(['7e', '92', '6f', 'ba', 'bb', '55', 'db', 'ea', '9d', 'ce', '52', 'dc', '76', 'b6', 'cf', '9e', 'cb', 'cd', 'da', '5b']), 'repeated_instructions': 233, 'unique_instructions': 245, 'total_instructions': 20992, 'most_common_20': set(['24', '03', '00', '30', '21', '04', '10', '8c', '08', '02', '8f', 'ac', '43', '0c', '1c', '63', 'af', 'ff', '3c', '42'])}, 'arm': {'vocab_size': 239, 'percent_repeated': 89.1213389121339, 'least_common_20': set(['39', 'ab', '6d', '6f', '17', 'af', '19', '8f', '37', '3d', 'ce', '3e', '2e', 'b7', '72', 'ed', 'ad', 'e6', '79', '4a']), 'repeated_instructions': 213, 'unique_instructions': 239, 'total_instructions': 22656, 'most_common_20': set(['10', '00', '01', '20', '04', '03', '08', '30', '40', '9f', 'a0', 'ff', 'e5', '83', '93', '81', 'e1', 'e0', 'e3', 'e2'])}}\n"
     ]
    }
   ],
   "source": [
    "fstats = freq_stats(counters)\n",
    "print(fstats)"
   ]
  },
  {
   "cell_type": "markdown",
   "metadata": {},
   "source": [
    "Conclusion: At the granularity of 32-bit instructions only ~ 1% of instructions are in the repetition set of an arch.\n",
    "The total instructions seen by each counter is total (samples/num_archictectures) * (instructions/sample)"
   ]
  },
  {
   "cell_type": "code",
   "execution_count": 110,
   "metadata": {},
   "outputs": [
    {
     "data": {
      "text/plain": [
       "21845.333333333332"
      ]
     },
     "execution_count": 110,
     "metadata": {},
     "output_type": "execute_result"
    }
   ],
   "source": [
    "4096/12 * 64"
   ]
  },
  {
   "cell_type": "code",
   "execution_count": 141,
   "metadata": {},
   "outputs": [],
   "source": [
    "def stop_words(freq_stats):\n",
    "    union = set([])\n",
    "    wildspace = {}\n",
    "    # could choose any arch to initialize intersection\n",
    "    intersection = set(freq_stats['sparc']['most_common_20'])\n",
    "    for arch in freq_stats:\n",
    "        intersection.intersection(freq_stats[arch]['most_common_20'])\n",
    "        others_union = set([])\n",
    "        union = union.union(freq_stats[arch]['most_common_20'])\n",
    "        others = set(freq_stats.keys()) - set([arch])\n",
    "        for other in others:\n",
    "            others_union = others_union.union(freq_stats[other]['most_common_20'])\n",
    "        wildspace_item = freq_stats[arch]['most_common_20'].difference(others_union)\n",
    "        wildspace[arch] = wildspace_item\n",
    "    return intersection, wildspace"
   ]
  },
  {
   "cell_type": "code",
   "execution_count": 142,
   "metadata": {},
   "outputs": [],
   "source": [
    "stop_words, wildspace = stop_words(fstats)"
   ]
  },
  {
   "cell_type": "code",
   "execution_count": 144,
   "metadata": {},
   "outputs": [
    {
     "name": "stdout",
     "output_type": "stream",
     "text": [
      "(20, set(['bf', '03', '60', 'a0', 'ff', '82', 'c2', '80', 'e0', '84', 'c4', '10', '00', '01', '20', '07', '05', '08', '40', 'c6']))\n"
     ]
    }
   ],
   "source": [
    "print(len(stop_words), stop_words)"
   ]
  },
  {
   "cell_type": "code",
   "execution_count": 145,
   "metadata": {},
   "outputs": [
    {
     "name": "stdout",
     "output_type": "stream",
     "text": [
      "{'s390': set(['58', 'a7', '50']), 'sh4': set(['12', '32', '0b', '61', '62', '72', '71', 'd2']), 'x86_64': set(['48', '8b', '45', 'eb', 'f8', 'c7']), 'xtensa': set(['99', '98', '88', 'a9']), 'avr': set(['ef', '2f', 'b7', '1f', '92', '95']), 'powerpc': set(['3d', '38', '7d', '14', '49']), 'alphaev56': set(['47']), 'sparc': set(['bf', '82', 'c2', 'c6', '84', 'c4']), 'm68k': set(['2e', '4a', 'fc', '4e']), 'mips': set([]), 'mipsel': set(['af']), 'arm': set(['e5', 'e2', 'e1', '9f'])}\n"
     ]
    }
   ],
   "source": [
    "print(wildspace)"
   ]
  },
  {
   "cell_type": "code",
   "execution_count": 150,
   "metadata": {},
   "outputs": [
    {
     "data": {
      "text/plain": [
       "{u'alphaev56': '00 00 00 00 00 01 7a 52 00 04 78 1a 01 1b 0d 1e 00 18 00 00 00 18 00 00 00 00 00 00 00 8c 00 00 00 00 43 0e 10 41 9a 02 5e da 0e 00 00 03 00 e3 43 00 00 3d 24 00 00 61 b0 00 00 42 20 04 00 42',\n",
       " u's390': '64 50 10 f0 60 58 10 d1 1a a7 2a ff ff 50 20 10 00 58 10 d1 1a 58 20 10 00 a7 2e ff f2 a7 44 ff ec 58 c0 f0 60 a7 48 00 01 58 30 d1 1a 58 10 d1 16 0d e1 a7 38 00 ff 14 32 58 40 d1 1a 41 20 f0',\n",
       " u'sh4': '00 e5 01 21 18 d1 19 d3 12 61 19 d4 10 1f 62 61 18 d1 32 21 32 21 32 21 0a d3 02 21 32 63 16 d0 32 21 22 21 62 63 00 e6 32 21 22 21 71 52 22 21 72 52 22 21 0b 40 09 00 00 e0 04 7f 26 4f f6 69',\n",
       " u'x86_64': '83 f8 02 7e e8 b8 00 00 00 00 eb 13 48 63 d0 8b 14 95 00 00 00 00 89 15 00 00 00 00 83 c0 01 85 c0 7e e9 b8 00 00 00 00 eb 13 48 63 d0 0f b6 92 00 00 00 00 89 15 00 00 00 00 83 c0 01 83 f8 01'}"
      ]
     },
     "execution_count": 150,
     "metadata": {},
     "output_type": "execute_result"
    }
   ],
   "source": [
    "{ orig_Y_train[i]: \" \".join(hex_X_train[i]) for i in range(5)}"
   ]
  },
  {
   "cell_type": "code",
   "execution_count": 148,
   "metadata": {},
   "outputs": [
    {
     "data": {
      "text/plain": [
       "u'alphaev56'"
      ]
     },
     "execution_count": 148,
     "metadata": {},
     "output_type": "execute_result"
    }
   ],
   "source": []
  },
  {
   "cell_type": "code",
   "execution_count": null,
   "metadata": {
    "collapsed": true
   },
   "outputs": [],
   "source": []
  }
 ],
 "metadata": {
  "kernelspec": {
   "display_name": "Python 2",
   "language": "python",
   "name": "python2"
  },
  "language_info": {
   "codemirror_mode": {
    "name": "ipython",
    "version": 2
   },
   "file_extension": ".py",
   "mimetype": "text/x-python",
   "name": "python",
   "nbconvert_exporter": "python",
   "pygments_lexer": "ipython2",
   "version": "2.7.12"
  }
 },
 "nbformat": 4,
 "nbformat_minor": 2
}
