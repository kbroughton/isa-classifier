{
 "cells": [
  {
   "cell_type": "markdown",
   "metadata": {},
   "source": [
    "\n",
    "reload = function() {\n",
    "\t/*\n",
    "\t * GET /challenge\n",
    "\t *     <= {\"binary\": \"__base64_encoded_blob__\", \"target\": [\"arm\", \"avr\"]}\n",
    "\t */\n",
    "\t$.get( \"https://mlb.praetorian.com/challenge\", function( data ) {\n",
    "\t\t/* display binary blob as hexdump */\n",
    "\t\tbinary = window.atob( data['binary'] );\n",
    "\t\tnew Hexdump(binary, { container: 'binary' , style: {}});\n",
    "\n",
    "\t\t/* display possible targets */\n",
    "\t\t$( '#target' ).empty();\n",
    "\t\tdata['target'].forEach(function(v, idx) {\n",
    "\t\t\t$( '#target' ).append(\n",
    "\t\t\t\t$('<option />').text( v ).val( v )\n",
    "\t\t\t);\n",
    "\t\t});\n",
    "\n",
    "\t\t$( '#submit' ).removeAttr('disabled');\n",
    "\t});\n",
    "}\n",
    "submit = function() {\n",
    "\t/* disable button, UI control only */\n",
    "\t$( '#submit' ).attr('disabled', 'disabled');\n",
    "\n",
    "\t/*\n",
    "\t * POST /solve\n",
    "\t *      => {\"target\": \"__guess_arch__\"}\n",
    "\t *      <= {\"correct\": 17, \"target\": \"__real__arch__\"}\n",
    "\t */\n",
    "\tdata = {\"target\": $( \"#target option:selected\" ).text() };\n",
    "\t$.post( \"https://mlb.praetorian.com/solve\", data, function( data ) {\n",
    "\t\tif (\"error\" in data) {\n",
    "\t\t\t/* log errors to the console for debugging */\n",
    "\t\t\tconsole.log(data['error']);\n",
    "\t\t} else {\n",
    "\t\t\t/* set the consecutive correct counter */\n",
    "\t\t\t$( '#correct' ).html(data['correct']);\n",
    "\n",
    "\t\t\t/* after 500 successful answers, the server presents a hash */\n",
    "\t\t\tif (\"hash\" in data) {\n",
    "\t\t\t\t/* \n",
    "\t\t\t\t * you should submit this hash to careers@praetorian.com\n",
    "\t\t\t\t *  - thank you for playing\n",
    "\t\t\t\t */\n",
    "\t\t\t}\n",
    "\t\t}\n",
    "\t\treload();\n",
    "\t});\n",
    "}\n",
    "\n",
    "reload();\n"
   ]
  },
  {
   "cell_type": "markdown",
   "metadata": {},
   "source": [
    "\n",
    "\n",
    "Intel software dev manual for 86 and IA-32\n",
    "1.3.4 Hexadecimal and Binary Numbers\n",
    "Base 16 (hexadecimal) numbers are represented by a string of hexadecimal digits followed by the character H (for example, F82EH). A hexadecimal digit is a character from the following set: 0, 1, 2, 3, 4, 5, 6, 7, 8, 9, A, B, C, D, E, and F.\n",
    "Base 2 (binary) numbers are represented by a string of 1s and 0s, sometimes followed by the character B (for example, 1010B). The “B” designation is only used in situations where confusion as to the type of number might arise.\n",
    "\n",
    "https://en.wikipedia.org/wiki/X86_instruction_listings\n",
    "There are hundreds, not tens of thousands of 'words' in an ISA\n",
    "\n",
    "0x37\n",
    "AAD\tASCII adjust AX before division\t8086/8088 datasheet documents only base 10 version of the AAD instruction (opcode 0xD5 0x0A), but any other base will work. Later Intel's documentation has the generic form too. NEC V20 and V30 (and possibly other NEC V-series CPUs) always use base 10, and ignore the argument, causing a number of incompatibilities\t0xD5\n",
    "AAM\tASCII adjust AX after multiplication\tOnly base 10 version (Operand is 0xA) is documented, see notes for AAD\t0xD4\n",
    "AAS\tASCII adjust AL after subtraction\t\t0x3f\n",
    "ADC\tAdd with carry\tdestination := destination + source + carry_flag\t0x10…0x15, 0x80/2…0x83/2\n",
    "ADD\tAdd\t(1) r/m += r/imm; (2) r += m/imm;\t0x00…0x05, 0x80/0…0x83/0\n",
    "AND\tLogical AND\t(1) r/m &= r/imm; (2) r &= m/imm;\t0x20…0x25, 0x80/4…0x83/4\n",
    "CALL\tCall procedure\tpush eip; eip points to the instruction directly after the call\t0x9A, 0xE8, 0xFF/2, 0xFF/3\n",
    "CBW\tConvert byte to word\t\t0x98\n",
    "CLC\tClear carry flag\tCF = 0;\t0xF8\n",
    "CLD\tClear direction flag\tDF = 0;\t0xFC\n",
    "CLI\tClear interrupt flag\tIF = 0;\t0xFA\n",
    "CMC\tComplement carry flag\t\t0xF5\n",
    "CMP\tCompare operands\t\t0x38…0x3D, 0x80/7…0x83/7\n",
    "CMPSB\tCompare bytes in memory\t\t0xA6\n",
    "CMPSW\tCompare words\t\t0xA7\n",
    "CWD\tConvert word to doubleword\t\t0x99\n",
    "DAA\tDecimal adjust AL after addition\t(used with packed binary coded decimal)\t0x27\n",
    "DAS\tDecimal adjust AL after subtraction\t\t0x2F\n",
    "DEC\tDecrement by 1\t\t0x48, 0xFE/1, 0xFF/1\n",
    "DIV\tUnsigned divide\tDX:AX = DX:AX / r/m; resulting DX == remainder\t0xF6/6, 0xF7/6\n",
    "ESC\tUsed with floating-point unit\t\t\n",
    "HLT\tEnter halt state\t\t0xF4\n",
    "IDIV\tSigned divide\tDX:AX = DX:AX / r/m; resulting DX == remainder\t0xF6/7, 0xF7/7\n",
    "IMUL\tSigned multiply\t(1) DX:AX = AX * r/m; (2) AX = AL * r/m\t0x69, 0x6B, 0xF6/5, 0xF7/5, 0x0FAF\n",
    "IN\tInput from port\t(1) AL = port[imm]; (2) AL = port[DX]; (3) AX = port[DX];\t0xE4, 0xE5, 0xEC, 0xED\n",
    "INC\tIncrement by 1\t\t0x40, 0xFE/0, 0xFF/0\n",
    "INT\tCall to interrupt\t\t0xCD\n",
    "INTO\tCall to interrupt if overflow\t\t0xCE\n",
    "IRET\tReturn from interrupt\t\t0xCF\n",
    "Jcc\tJump if condition\t(JA, JAE, JB, JBE, JC, JE, JG, JGE, JL, JLE, JNA, JNAE, JNB, JNBE, JNC, JNE, JNG, JNGE, JNL, JNLE, JNO, JNP, JNS, JNZ, JO, JP, JPE, JPO, JS, JZ)\t0x70…0x7F, 0xE3, 0x0F83, 0x0F87\n",
    "JCXZ\tJump if CX is zero\t\t0xE3\n",
    "JMP\tJump\t\t0xE9…0xEB, 0xFF/4, 0xFF/5\n",
    "LAHF\tLoad FLAGS into AH register\t\t0x9F\n",
    "LDS\tLoad pointer using DS\t\t0xC5\n",
    "LEA\tLoad Effective Address\t\t0x8D\n",
    "LES\tLoad ES with pointer\t\t0xC4\n",
    "LOCK\tAssert BUS LOCK# signal\t(for multiprocessing)\t0xF0\n",
    "LODSB\tLoad string byte\tif (DF==0) AL = *SI++; else AL = *SI--;\t0xAC\n",
    "LODSW\tLoad string word\tif (DF==0) AX = *SI++; else AX = *SI--;\t0xAD\n",
    "LOOP/LOOPx\tLoop control\t(LOOPE, LOOPNE, LOOPNZ, LOOPZ) if (x && --CX) goto lbl;\t0xE0..0xE2\n",
    "MOV\tMove\tcopies data from one location to another, (1) r/m = r; (2) r = r/m;\t\n",
    "MOVSB\tMove byte from string to string\t\n",
    "if (DF==0) \n",
    "  *(byte*)DI++ = *(byte*)SI++; \n",
    "else \n",
    "  *(byte*)DI-- = *(byte*)SI--;\n",
    "0xA4\n",
    "MOVSW\tMove word from string to string\t\n",
    "if (DF==0) \n",
    "  *(word*)DI++ = *(word*)SI++; \n",
    "else \n",
    "  *(word*)DI-- = *(word*)SI--;\n",
    "0xA5\n",
    "MUL\tUnsigned multiply\t(1) DX:AX = AX * r/m; (2) AX = AL * r/m;\t\n",
    "NEG\tTwo's complement negation\tr/m *= -1;\t\n",
    "NOP\tNo operation\topcode equivalent to XCHG EAX, EAX\t0x90\n",
    "NOT\tNegate the operand, logical NOT\tr/m ^= -1;\t\n",
    "OR\tLogical OR\t(1) r/m |= r/imm; (2) r |= m/imm;\t\n",
    "OUT\tOutput to port\t(1) port[imm] = AL; (2) port[DX] = AL; (3) port[DX] = AX;\t\n",
    "POP\tPop data from stack\tr/m = *SP++; POP CS (opcode 0x0F) works only on 8086/8088. Later CPUs use 0x0F as a prefix for newer instructions.\t\n",
    "POPF\tPop FLAGS register from stack\tFLAGS = *SP++;\t0x9D\n",
    "PUSH\tPush data onto stack\t*--SP = r/m;\t\n",
    "PUSHF\tPush FLAGS onto stack\t*--SP = FLAGS;\t0x9C\n",
    "RCL\tRotate left (with carry)\t\t\n",
    "RCR\tRotate right (with carry)\t\t\n",
    "REPxx\tRepeat MOVS/STOS/CMPS/LODS/SCAS\t(REP, REPE, REPNE, REPNZ, REPZ)\t\n",
    "RET\tReturn from procedure\tNot a real instruction. The assembler will translate these to a RETN or a RETF depending on the memory model of the target system.\t\n",
    "RETN\tReturn from near procedure\t\t\n",
    "RETF\tReturn from far procedure\t\t\n",
    "ROL\tRotate left\t\t\n",
    "ROR\tRotate right\t\t\n",
    "SAHF\tStore AH into FLAGS\t\t0x9E\n",
    "SAL\tShift Arithmetically left (signed shift left)\t(1) r/m <<= 1; (2) r/m <<= CL;\t\n",
    "SAR\tShift Arithmetically right (signed shift right)\t(1) (signed) r/m >>= 1; (2) (signed) r/m >>= CL;\t\n",
    "SBB\tSubtraction with borrow\talternative 1-byte encoding of SBB AL, AL is available via undocumented SALC instruction\t\n",
    "SCASB\tCompare byte string\t\t0xAE\n",
    "SCASW\tCompare word string\t\t0xAF\n",
    "SHL\tShift left (unsigned shift left)\t\t\n",
    "SHR\tShift right (unsigned shift right)\t\t\n",
    "STC\tSet carry flag\tCF = 1;\t0xF9\n",
    "STD\tSet direction flag\tDF = 1;\t0xFD\n",
    "STI\tSet interrupt flag\tIF = 1;\t0xFB\n",
    "STOSB\tStore byte in string\tif (DF==0) *ES:DI++ = AL; else *ES:DI-- = AL;\t0xAA\n",
    "STOSW\tStore word in string\tif (DF==0) *ES:DI++ = AX; else *ES:DI-- = AX;\t0xAB\n",
    "SUB\tSubtraction\t(1) r/m -= r/imm; (2) r -= m/imm;\t\n",
    "TEST\tLogical compare (AND)\t(1) r/m & r/imm; (2) r & m/imm;\t\n",
    "WAIT\tWait until not busy\tWaits until BUSY# pin is inactive (used with floating-point unit)\t0x9B\n",
    "XCHG\tExchange data\tr :=: r/m; A spinlock typically uses xchg as an atomic operation. (coma bug).\t\n",
    "XLAT\tTable look-up translation\tbehaves like MOV AL, [BX+AL]\t0xD7\n",
    "XOR\tExclusive OR\t(1) r/m ^= r/imm; (2) r ^= m/imm;\t"
   ]
  },
  {
   "cell_type": "markdown",
   "metadata": {},
   "source": [
    "## ARM\n",
    "As explained in the previous chapter, all ARM instructions are 32 bits long. Here is a typical one:\n",
    "\n",
    "10101011100101010010100111101011\n",
    "\n",
    "https://stackoverflow.com/questions/11785973/converting-very-simple-arm-instructions-to-binary-hex"
   ]
  },
  {
   "cell_type": "code",
   "execution_count": 1,
   "metadata": {
    "collapsed": true
   },
   "outputs": [],
   "source": [
    "jc = '''\n",
    "var text = \"\";\n",
    "var i = 0;\n",
    "for (i = 0; i < 5; i++) { \n",
    "    text += \"p\";}\n",
    "'''"
   ]
  },
  {
   "cell_type": "code",
   "execution_count": 2,
   "metadata": {},
   "outputs": [
    {
     "data": {
      "text/plain": [
       "'\\nvar text = \"\";\\nvar i = 0;\\nfor (i = 0; i < 5; i++) { \\n    text += \"p\";}\\n'"
      ]
     },
     "execution_count": 2,
     "metadata": {},
     "output_type": "execute_result"
    }
   ],
   "source": [
    "jc"
   ]
  },
  {
   "cell_type": "code",
   "execution_count": null,
   "metadata": {
    "collapsed": true
   },
   "outputs": [],
   "source": [
    "%%javascript\n",
    "IPython.notebook.kernel.execute(\n",
    "'''\n",
    "var text = '';\n",
    "var i = 0;\n",
    "for (i = 0; i < 5; i++) { \n",
    "    text = 'p';\n",
    "}\n",
    "'''\n",
    ")"
   ]
  },
  {
   "cell_type": "code",
   "execution_count": 3,
   "metadata": {
    "collapsed": true
   },
   "outputs": [],
   "source": [
    "binary_data = [u'GAAAABgAAAAAAAAAqAAAAABIDhBHmgJa2g4AAAAAQaAAAD0kAABetxEE/0cCAOJDAAAQIgAAQbAAAF0kAABCoA==', u'AAAAAAABelIABHgaARsNHgAYAAAAGAAAAAAAAACMAAAAAEMOEEGaAl7aDgAAAwDjQwAAPSQAAGGwAABCIAQAQg==', u'AOUBIRjRGdMSYRnUEB9iYRjRMiEyITIhCtMCITJjFtAyISIhYmMA5jIhIiFxUiIhclIiIQtACQAA4AR/Jk/2aQ==', u'g/gCfui4AAAAAOsTSGPQixSVAAAAAIkVAAAAAIPAAYXAfum4AAAAAOsTSGPQD7aSAAAAAIkVAAAAAIPAAYP4AQ==']"
   ]
  },
  {
   "cell_type": "code",
   "execution_count": null,
   "metadata": {
    "collapsed": true
   },
   "outputs": [],
   "source": [
    "import base64\n",
    "bd = base64.b64decode(binary_data[0])\n",
    "print('bd', bd)\n",
    "hd = Hexdump(bd, { 'container': 'binary', 'style': {}})"
   ]
  },
  {
   "cell_type": "code",
   "execution_count": 4,
   "metadata": {
    "collapsed": true
   },
   "outputs": [],
   "source": [
    "binaries = \"\"\"\n",
    "00000000: 00390000 00000000 00910009 00000000\n",
    "00000008: 009000e9 00000000 003800e0 00000009\n",
    "00000016: 00910049 00000000 0091005f 00ff00fc\n",
    "00000024: 009000e9 00000000 00910049 00000000\n",
    "00000032: 00390040 0000000e 00910049 00000000\n",
    "00000040: 003d0040 00710083 0061004a 007d00ef\n",
    "00000048: 00910049 00000000 0081005e 00000000\n",
    "00000056: 00910049 00000000 003d0040 00f600bb\n",
    "\"\"\""
   ]
  },
  {
   "cell_type": "code",
   "execution_count": 5,
   "metadata": {},
   "outputs": [
    {
     "data": {
      "application/javascript": [
       "IPython.notebook.kernel.execute(\"foo=97\")"
      ],
      "text/plain": [
       "<IPython.core.display.Javascript object>"
      ]
     },
     "metadata": {},
     "output_type": "display_data"
    }
   ],
   "source": [
    "%%javascript\n",
    "IPython.notebook.kernel.execute(\"foo=97\")"
   ]
  },
  {
   "cell_type": "code",
   "execution_count": 6,
   "metadata": {},
   "outputs": [
    {
     "data": {
      "text/plain": [
       "97"
      ]
     },
     "execution_count": 6,
     "metadata": {},
     "output_type": "execute_result"
    }
   ],
   "source": []
  },
  {
   "cell_type": "markdown",
   "metadata": {},
   "source": [
    "### We will use the hexdump.js on the praetorian ml page to extract the data \n",
    "\n",
    "### Use jupyter to execute hexdump.js\n",
    "https://stackoverflow.com/questions/37172978/how-to-pass-variables-from-javascript-to-python-in-jupyter"
   ]
  },
  {
   "cell_type": "code",
   "execution_count": null,
   "metadata": {
    "collapsed": true
   },
   "outputs": [],
   "source": [
    "%%html\n",
    "<html>\n",
    "<body>\n",
    "<script src=\"https://ajax.googleapis.com/ajax/libs/jquery/2.2.0/jquery.min.js\"></script>\n",
    "<script src=\"hexdump.js\"></script>\n",
    "\n",
    "<style>\n",
    "body{\n",
    "  background:#151515;\n",
    "  color:#00FF00;\n",
    "  font-family:monospace;\n",
    "}\n",
    "#outer {\n",
    "  width: 100%;\n",
    "  text-align: center;\n",
    "}\n",
    "#inner {\n",
    "  display: inline-block;\n",
    "}\n",
    "</style>\n",
    "\n",
    "<div id='outer'>\n",
    "    <div id='inner'>\n",
    "        <h2>Machine Learning Binaries</h2><br/>\n",
    "        <span id='correct'>0</span>\n",
    "        <select id='target'>\n",
    "        </select>\n",
    "        <input id='submit' type='button' onclick='submit()' value='Submit'></input>\n",
    "        <pre id='binary' style='font-family: monospace'>Loading data...</pre>\n",
    "    </div>\n",
    "</div>\n",
    "\n",
    "<script>\n",
    "reload = function() {\n",
    "    /*\n",
    "    * GET /challenge\n",
    "    *     <= {\"binary\": \"__base64_encoded_blob__\", \"target\": [\"arm\", \"avr\"]}\n",
    "    */\n",
    "    $.get( \"https://mlb.praetorian.com/challenge\", function( data ) {\n",
    "        /* display binary blob as hexdump */\n",
    "        binary = window.atob( data['binary'] );\n",
    "        new Hexdump(binary, { container: 'binary' , style: {}});\n",
    "\n",
    "        /* display possible targets */\n",
    "        $( '#target' ).empty();\n",
    "        data['target'].forEach(function(v, idx) {\n",
    "            $( '#target' ).append(\n",
    "                $('<option />').text( v ).val( v )\n",
    "            );\n",
    "        });\n",
    "\n",
    "        $( '#submit' ).removeAttr('disabled');\n",
    "    });\n",
    "}\n",
    "submit = function() {\n",
    "    /* disable button, UI control only */\n",
    "    $( '#submit' ).attr('disabled', 'disabled');\n",
    "\n",
    "    /*\n",
    "    * POST /solve\n",
    "    *      => {\"target\": \"__guess_arch__\"}\n",
    "    *      <= {\"correct\": 17, \"target\": \"__real__arch__\"}\n",
    "    */\n",
    "    data = {\"target\": $( \"#target option:selected\" ).text() };\n",
    "    $.post( \"https://mlb.praetorian.com/solve\", data, function( data ) {\n",
    "        if (\"error\" in data) {\n",
    "            /* log errors to the console for debugging */\n",
    "            console.log(data['error']);\n",
    "        } else {\n",
    "            /* set the consecutive correct counter */\n",
    "            $( '#correct' ).html(data['correct']);\n",
    "\n",
    "            /* after 500 successful answers, the server presents a hash */\n",
    "            if (\"hash\" in data) {\n",
    "                /* \n",
    "                * you should submit this hash to careers@praetorian.com\n",
    "                *  - thank you for playing\n",
    "                */\n",
    "            }\n",
    "        }\n",
    "        reload();\n",
    "    });\n",
    "}\n",
    "\n",
    "reload();\n",
    "</script>\n",
    "\n",
    "</body>\n",
    "</html>"
   ]
  },
  {
   "cell_type": "code",
   "execution_count": null,
   "metadata": {
    "collapsed": true
   },
   "outputs": [],
   "source": [
    "%%html\n",
    "<!DOCTYPE html>\n",
    "<!-- Last Published: Wed Nov 15 2017 14:12:13 GMT+0000 (UTC) -->\n",
    "<html data-wf-domain=\"www.praetorian.com\" data-wf-page=\"589145aef2a9cab436a53faf\" data-wf-site=\"58866caeabc83d5e7c574c71\">\n",
    "    <head>\n",
    "        <meta charset=\"utf-8\"/>\n",
    "        <script>\n",
    "            window.onload = function getGclid() {\n",
    "                document.getElementById(\"GCLID__c\").value = (name = new RegExp('(?:^|;\\\\s*)gclid=([^;]*)').exec(document.cookie)) ? name.split(\",\")[1] : \"\";\n",
    "            }\n",
    "            // window.onload() may not be supported by all browsers.  \n",
    "            // If you experience problems submitting the GCLID as a\n",
    "            // hidden field, consider using an alternate method to\n",
    "            // call this function on page load.\n",
    "        </script>\n",
    "    </head>\n",
    "    <body>\n",
    "        <div class=\"section\">\n",
    "            <div data-ix=\"reveal-case-study-button\" id=\"scroll-down\" class=\"centered challenges container details flex\">\n",
    "                <div class=\"challenge-content-section w-clearfix\">\n",
    "\n",
    "                    <div class=\"challenge-content-right\">\n",
    "\n",
    "\n",
    "                        <div id=\"explore-the-sample\" class=\"challenge-content-block\">\n",
    "                            <h4 class=\"challenge-h4\">Explore the sample</h4>\n",
    "                            <div class=\"w-embed w-iframe\">\n",
    "                                <iframe src=\"https://mlb.praetorian.com\" style=\"margin: 20px 0;border:3px solid #eee;\" frameborder=\"0\" scrolling=\"1\" width=\"100%\" height=\"500px\"></iframe>\n",
    "                            </div>\n",
    "                        </div>\n",
    "                        \n",
    "                        \n",
    "                    </div>\n",
    "                </div>\n",
    "            </div>\n",
    "        </div>\n",
    "    </body>\n",
    "</html>\n"
   ]
  },
  {
   "cell_type": "code",
   "execution_count": null,
   "metadata": {
    "collapsed": true
   },
   "outputs": [],
   "source": [
    "%%javascript\n",
    "var text = \"\";\n",
    "var i = 0;\n",
    "for (i = 0; i < 5; i++) { \n",
    "    text += \"p\";\n",
    "    console.log(text);\n",
    "}"
   ]
  },
  {
   "cell_type": "code",
   "execution_count": null,
   "metadata": {
    "collapsed": true
   },
   "outputs": [],
   "source": [
    "from IPython.core.display import display, HTML\n",
    "# http://jakevdp.github.io/blog/2013/06/01/ipython-notebook-javascript-python-communication/\n",
    "# Add an input form similar to what we saw above\n",
    "\n",
    "input_form = \"\"\"\n",
    "<div style=\"background-color:gainsboro; border:solid black; width:600px; padding:20px;\">\n",
    "Code: <input type=\"text\" id=\"code_input\" size=\"50\" height=\"2\" value=\"sin(pi / 2)\">\n",
    "\n",
    "Result: <input type=\"text\" id=\"result_output\" size=\"50\" value=\"1.0\">\n",
    "\n",
    "<button onclick=\"exec_code()\">Execute</button>\n",
    "</div> \n",
    "\"\"\""
   ]
  },
  {
   "cell_type": "code",
   "execution_count": null,
   "metadata": {
    "collapsed": true
   },
   "outputs": [],
   "source": [
    "%%javascript\n",
    "IPython.notebook.kernel.execute(\n",
    "'''\n",
    "var text = \"\";\n",
    "var i = 0;\n",
    "for (i = 0; i < 5; i++) { \n",
    "    text += \"p\";\n",
    "    console.log(text);\n",
    "}'''\n",
    ")\n"
   ]
  },
  {
   "cell_type": "code",
   "execution_count": null,
   "metadata": {
    "collapsed": true
   },
   "outputs": [],
   "source": [
    "https://www.sudosatirical.com/articles/10-year-old-root-exploit-found-in-man-command/"
   ]
  },
  {
   "cell_type": "code",
   "execution_count": null,
   "metadata": {
    "collapsed": true
   },
   "outputs": [],
   "source": [
    "import chardet\n",
    "decoded = [x.decode(chardet.detect(x)['encoding'])\n",
    "           for x in dt3 ]        \n",
    "v = CountVectorizer().fit(decoded).vocabulary_    \n",
    "for term in v: print(v)  "
   ]
  },
  {
   "cell_type": "code",
   "execution_count": null,
   "metadata": {
    "collapsed": true
   },
   "outputs": [],
   "source": [
    "print(chardet.detect(dt2[2]))\n",
    "hexdoc_X_train = map(\"\".join, hex_X_train)\n",
    "print(hexdoc_X_train[0])\n",
    "print(len(hexdoc_X_train))"
   ]
  }
 ],
 "metadata": {
  "kernelspec": {
   "display_name": "Python 2",
   "language": "python",
   "name": "python2"
  },
  "language_info": {
   "codemirror_mode": {
    "name": "ipython",
    "version": 2
   },
   "file_extension": ".py",
   "mimetype": "text/x-python",
   "name": "python",
   "nbconvert_exporter": "python",
   "pygments_lexer": "ipython2",
   "version": "2.7.12"
  }
 },
 "nbformat": 4,
 "nbformat_minor": 2
}
